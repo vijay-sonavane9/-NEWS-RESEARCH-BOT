{
 "cells": [
  {
   "cell_type": "markdown",
   "id": "1d0ecf2e-9ed0-4e8b-9859-22da69eb12fd",
   "metadata": {},
   "source": [
    "### Load TXT File"
   ]
  },
  {
   "cell_type": "code",
   "execution_count": 2,
   "id": "6a32d54e-ae0d-4bd6-b078-1451f890791a",
   "metadata": {},
   "outputs": [],
   "source": [
    "from langchain.document_loaders import TextLoader"
   ]
  },
  {
   "cell_type": "code",
   "execution_count": 3,
   "id": "2d8f1ea4-11c5-48d0-ba07-8f9c503e9bc3",
   "metadata": {},
   "outputs": [],
   "source": [
    "loader = TextLoader(\"RCBAuction.txt\")\n",
    "data = loader.load()"
   ]
  },
  {
   "cell_type": "code",
   "execution_count": 9,
   "id": "db9d8fdc-3f65-4376-b555-12ed2f03115c",
   "metadata": {},
   "outputs": [
    {
     "data": {
      "text/plain": [
       "'Another auction is here, and RCB steps in with the same hopeâ€”to build a well-rounded team capable of clinching their first-ever IPL title. It has been 17 long years, and the Royal Challengers Bangaloreâ€™s quest for the coveted trophy continues. With renewed energy and optimism, RCB must craft a better strategy, as the foundation for winning an IPL trophy is often laid at the auction table. Time and again, the franchiseâ€™s loyal fans and supporters have been left disappointed by questionable decisions and picks during previous auctions. This time, the focus will be on avoiding past mistakes and assembling a balanced squad for IPL 2025. The first step towards this goal was evident in the retentions announced during the IPL 2025 retention window.\\n\\nadvertisement\\n\\nRCB splurged Rs 37 crore to retain three players, with Virat Kohli being their top retention for RS 21 crore. Rajat Patidar followed at Rs 11 crore, while Yash Dayal, retained under the uncapped player category, was valued at Rs 4 crore. These retentions signal a strategic shift for RCB, moving away from an over-reliance on star power to strengthening their Indian coreâ€”a proven formula for success in IPL history. Kohli extended his long-standing association with the franchise, becoming the most expensive Indian retention this season.\\n\\nPatidar was rewarded for his consistent performances, cementing his place in the teamâ€™s plans. With Rs 83 crore left in their purse and three RTMs available for both capped and uncapped players, RCB is poised to make crucial moves at the IPL 2025 mega auction. This will be their stepping stone toward building a squad capable of finally ending their title drought.\\n\\nRCB: List of retained players\\n\\nA\\nMust Read\\nAR Rahman uses hashtag on divorce post. Internet is puzzled\\n\\nTRENDING TOPICS:\\nElections 2024\\nBorder-Gavaskar Trophy\\nDelhi AQI\\nIndia-China LAC Deal\\nMiddle East Crisis\\nVirat Kohli - Rs 21 crore\\n\\nRajat Patidar - Rs 11 crore\\n\\nYash Dayal - Rs 4 crore\\n\\nWho Can RCB retain using RTM?\\nMohammed Siraj\\n\\nThe top candidate on RCBâ€™s radar for using the Right to Match (RTM) option is Mohammed Siraj. A key bowler for the franchise since 2018, Sirajâ€™s release came as a surprise to many. Over his tenure, he has taken 83 wickets in 87 IPL matches, making him the third-highest wicket-taker for RCB. Retained for Rs 7 crore ahead of the IPL 2022 mega auction, Siraj continued to perform consistently, claiming 15 wickets in the last season. His omission from the retention list was unexpected, but RCB might look to bring him back using the RTM option, recognising his impact on the teamâ€™s bowling unit.\\n\\nGlenn Maxwell\\n\\nAustralian all-rounder Glenn Maxwell has been a pivotal player for RCB in recent seasons. Known for his explosive batting, sharp fielding, and handy off-spin, Maxwell adds versatility to the side. Purchased for Rs 14.25 crore in the IPL 2025 mega auction, Maxwellâ€™s association with RCB has been fruitful despite a disappointing IPL 2024 with the bat. The franchise values his contributions during the three strong seasons prior to IPL 2024, which could motivate them to use RTM to secure his services again. Maxwell himself has spoken warmly about his discussions with the RCB management after his release, indicating mutual respect and potential for reunion.'"
      ]
     },
     "execution_count": 9,
     "metadata": {},
     "output_type": "execute_result"
    }
   ],
   "source": [
    "data\n",
    "data[0].page_content\n",
    "#data[0].metadata  # {'source': 'RCBAuction.txt'}\n",
    "#data[0]  # It stores in a array form"
   ]
  },
  {
   "cell_type": "markdown",
   "id": "b4368666-355b-49b9-84d5-990521f1f092",
   "metadata": {},
   "source": [
    "### You can also load CSV File "
   ]
  },
  {
   "cell_type": "code",
   "execution_count": 16,
   "id": "1f24744e-da8c-44a5-ae53-2c988d470eca",
   "metadata": {},
   "outputs": [],
   "source": [
    "from langchain.document_loaders.csv_loader import CSVLoader"
   ]
  },
  {
   "cell_type": "code",
   "execution_count": 20,
   "id": "4079236e-919d-4c84-bb7b-5809b14b73e5",
   "metadata": {},
   "outputs": [
    {
     "data": {
      "text/plain": [
       "Document(metadata={'source': 'movies.csv', 'row': 0}, page_content='movie_id: 101\\ntitle: K.G.F: Chapter 2\\nindustry: Bollywood\\nrelease_year: 2022\\nimdb_rating: 8.4\\nstudio: Hombale Films\\nlanguage_id: 3\\nbudget: 1\\nrevenue: 12.5\\nunit: Billions\\ncurrency: INR')"
      ]
     },
     "execution_count": 20,
     "metadata": {},
     "output_type": "execute_result"
    }
   ],
   "source": [
    "loader = CSVLoader(\"movies.csv\")\n",
    "data  = loader.load()\n",
    "data[0]"
   ]
  },
  {
   "cell_type": "code",
   "execution_count": 1,
   "id": "35b075cc-e5ab-49be-ad25-ca83ceaf1ffe",
   "metadata": {},
   "outputs": [],
   "source": [
    "from langchain.document_loaders import UnstructuredURLLoader"
   ]
  },
  {
   "cell_type": "code",
   "execution_count": 3,
   "id": "23a5a0f4-cc2a-4d23-8d88-c04780af868c",
   "metadata": {},
   "outputs": [],
   "source": [
    "loader = UnstructuredURLLoader(urls=[\n",
    "    \"https://www.indiatoday.in/sports/story/ipl-auction-prediction-which-players-can-rcb-buy-kl-rahul-yuzvendra-chahal-bengaluru-purse-2636711-2024-11-21\",\n",
    "    \"https://www.indiatoday.in/india/video/maharashtra-election-results-exit-poll-forecast-2636911-2024-11-21?utm_source=Taboola&utm_medium=organic&utm_campaign=recirculation\"\n",
    "])"
   ]
  },
  {
   "cell_type": "code",
   "execution_count": 4,
   "id": "45820b6c-070e-43a7-9b84-cfc5285b3e7a",
   "metadata": {},
   "outputs": [
    {
     "data": {
      "text/plain": [
       "2"
      ]
     },
     "execution_count": 4,
     "metadata": {},
     "output_type": "execute_result"
    }
   ],
   "source": [
    "data = loader.load()\n",
    "len(data)"
   ]
  },
  {
   "cell_type": "code",
   "execution_count": 6,
   "id": "40c4591c-677a-4ac7-b625-bfba8751419d",
   "metadata": {},
   "outputs": [],
   "source": [
    "#data[0]"
   ]
  },
  {
   "cell_type": "code",
   "execution_count": 7,
   "id": "c9a0130b-48fe-4c95-b490-9f92e7851713",
   "metadata": {},
   "outputs": [
    {
     "data": {
      "text/plain": [
       "{'source': 'https://www.indiatoday.in/sports/story/ipl-auction-prediction-which-players-can-rcb-buy-kl-rahul-yuzvendra-chahal-bengaluru-purse-2636711-2024-11-21'}"
      ]
     },
     "execution_count": 7,
     "metadata": {},
     "output_type": "execute_result"
    }
   ],
   "source": [
    "data[0].metadata"
   ]
  },
  {
   "cell_type": "markdown",
   "id": "f07a67bb-8afb-4579-a111-1c73120e86c6",
   "metadata": {},
   "source": [
    "### Text Splitters\n",
    "**Why do we need text splitters in first place?**\n",
    "\n",
    "LLM's have token limits. Hence we need to split the text which can be large into small chunks so that each chunk size is under the token limit. There are various text splitter classes in langchain that allows us to do this.\n"
   ]
  },
  {
   "cell_type": "code",
   "execution_count": 8,
   "id": "ab267f2d-eb2b-442a-bafe-966add99c1d8",
   "metadata": {},
   "outputs": [],
   "source": [
    "\n",
    "# Taking some random text from wikipedia\n",
    "\n",
    "text = \"\"\"Interstellar is a 2014 epic science fiction film co-written, directed, and produced by Christopher Nolan. \n",
    "It stars Matthew McConaughey, Anne Hathaway, Jessica Chastain, Bill Irwin, Ellen Burstyn, Matt Damon, and Michael Caine. \n",
    "Set in a dystopian future where humanity is embroiled in a catastrophic blight and famine, the film follows a group of astronauts who travel through a wormhole near Saturn in search of a new home for humankind.\n",
    "\n",
    "Brothers Christopher and Jonathan Nolan wrote the screenplay, which had its origins in a script Jonathan developed in 2007 and was originally set to be directed by Steven Spielberg. \n",
    "Kip Thorne, a Caltech theoretical physicist and 2017 Nobel laureate in Physics,[4] was an executive producer, acted as a scientific consultant, and wrote a tie-in book, The Science of Interstellar. \n",
    "Cinematographer Hoyte van Hoytema shot it on 35 mm movie film in the Panavision anamorphic format and IMAX 70 mm. Principal photography began in late 2013 and took place in Alberta, Iceland, and Los Angeles. \n",
    "Interstellar uses extensive practical and miniature effects, and the company Double Negative created additional digital effects.\n",
    "\n",
    "Interstellar premiered in Los Angeles on October 26, 2014. In the United States, it was first released on film stock, expanding to venues using digital projectors. The film received generally positive reviews from critics and grossed over $677 million worldwide ($715 million after subsequent re-releases), making it the tenth-highest-grossing film of 2014. \n",
    "It has been praised by astronomers for its scientific accuracy and portrayal of theoretical astrophysics.[5][6][7] Interstellar was nominated for five awards at the 87th Academy Awards, winning Best Visual Effects, and received numerous other accolades.\"\"\""
   ]
  },
  {
   "cell_type": "markdown",
   "id": "e2002700-2a19-4f40-b15f-f775a583d711",
   "metadata": {},
   "source": [
    "#### Manual approach of splitting the text into chunks\n",
    " Say LLM token limit is 100, in that case we can do simple thing such as this"
   ]
  },
  {
   "cell_type": "code",
   "execution_count": 9,
   "id": "95dc53dd-895e-4131-96e6-a77ec0d64999",
   "metadata": {},
   "outputs": [
    {
     "data": {
      "text/plain": [
       "'Interstellar is a 2014 epic science fiction film co-written, directed, and produced by Christopher N'"
      ]
     },
     "execution_count": 9,
     "metadata": {},
     "output_type": "execute_result"
    }
   ],
   "source": [
    "text[0:100]\n",
    "# Well but we want complete words and want to do this for entire text, may be we can use Python's split funciton"
   ]
  },
  {
   "cell_type": "code",
   "execution_count": 10,
   "id": "eb8c10d0-6fe3-4583-b68e-d3745c21d5d6",
   "metadata": {},
   "outputs": [],
   "source": [
    "words = text.split(\" \")\n",
    "len(words)\n",
    "chunks = []"
   ]
  },
  {
   "cell_type": "code",
   "execution_count": 11,
   "id": "cb89db8d-b558-40d5-a009-58e1739e2d47",
   "metadata": {},
   "outputs": [],
   "source": [
    "s = \"\"\n",
    "for word in words:\n",
    "    s += word + \" \"\n",
    "    if len(s)>200:\n",
    "        chunks.append(s)\n",
    "        s = \"\"\n",
    "        \n",
    "chunks.append(s)"
   ]
  },
  {
   "cell_type": "code",
   "execution_count": 12,
   "id": "bad1599c-a721-4520-8867-6d58732f502b",
   "metadata": {},
   "outputs": [
    {
     "data": {
      "text/plain": [
       "['Interstellar is a 2014 epic science fiction film co-written, directed, and produced by Christopher Nolan. \\nIt stars Matthew McConaughey, Anne Hathaway, Jessica Chastain, Bill Irwin, Ellen Burstyn, Matt ',\n",
       " 'Damon, and Michael Caine. \\nSet in a dystopian future where humanity is embroiled in a catastrophic blight and famine, the film follows a group of astronauts who travel through a wormhole near Saturn in ']"
      ]
     },
     "execution_count": 12,
     "metadata": {},
     "output_type": "execute_result"
    }
   ],
   "source": [
    "chunks[:2]"
   ]
  },
  {
   "cell_type": "markdown",
   "id": "6f3866eb-e87a-4b4a-8e99-c3d40bea05df",
   "metadata": {},
   "source": [
    "Splitting data into chunks can be done in native python but it is a tidious process. Also if necessary, you may need to experiment with various delimiters in an iterative manner to ensure that each chunk does not exceed the token length limit of the respective LLM.\n",
    "\n",
    "Langchain provides a better way through text splitter classes.\n",
    "\n",
    "### Using Text Splitter Classes from Langchain\n",
    "### CharacterTextSplitter"
   ]
  },
  {
   "cell_type": "code",
   "execution_count": 13,
   "id": "5d33393c-0324-44c4-9852-5461bde39ed8",
   "metadata": {},
   "outputs": [],
   "source": [
    "from langchain.text_splitter import CharacterTextSplitter\n",
    "\n",
    "splitter = CharacterTextSplitter(\n",
    "    separator = \"\\n\",\n",
    "    chunk_size=200,\n",
    "    chunk_overlap=0\n",
    ")"
   ]
  },
  {
   "cell_type": "code",
   "execution_count": 14,
   "id": "8687bf26-b87a-4114-a1d3-18c2e78b4a8f",
   "metadata": {},
   "outputs": [
    {
     "name": "stderr",
     "output_type": "stream",
     "text": [
      "Created a chunk of size 210, which is longer than the specified 200\n",
      "Created a chunk of size 208, which is longer than the specified 200\n",
      "Created a chunk of size 358, which is longer than the specified 200\n"
     ]
    },
    {
     "data": {
      "text/plain": [
       "9"
      ]
     },
     "execution_count": 14,
     "metadata": {},
     "output_type": "execute_result"
    }
   ],
   "source": [
    "chunks = splitter.split_text(text)\n",
    "len(chunks)"
   ]
  },
  {
   "cell_type": "code",
   "execution_count": 15,
   "id": "06037b59-9a5e-490a-b475-833e4dd247f4",
   "metadata": {},
   "outputs": [
    {
     "name": "stdout",
     "output_type": "stream",
     "text": [
      "105\n",
      "120\n",
      "210\n",
      "181\n",
      "197\n",
      "207\n",
      "128\n",
      "357\n",
      "253\n"
     ]
    }
   ],
   "source": [
    "for chunk in chunks:\n",
    "    print(len(chunk))"
   ]
  },
  {
   "cell_type": "markdown",
   "id": "3315ee9e-2438-4fa6-95a9-7906549b9135",
   "metadata": {},
   "source": [
    "As you can see, all though we gave 200 as a chunk size since the split was based on \\n, it ended up creating chunks that are bigger than size 200.\n",
    "\n",
    "Another class from Langchain can be used to recursively split the text based on a list of separators. This class is RecursiveTextSplitter. Let's see how it works\n"
   ]
  },
  {
   "cell_type": "markdown",
   "id": "59c7f0bb-4161-40bc-863d-ffeefda613e9",
   "metadata": {},
   "source": [
    "### RecursiveTextSplitter"
   ]
  },
  {
   "cell_type": "code",
   "execution_count": 16,
   "id": "c56ac302-d722-4166-97a2-f43ac0276732",
   "metadata": {},
   "outputs": [
    {
     "data": {
      "text/plain": [
       "'Interstellar is a 2014 epic science fiction film co-written, directed, and produced by Christopher Nolan. \\nIt stars Matthew McConaughey, Anne Hathaway, Jessica Chastain, Bill Irwin, Ellen Burstyn, Matt Damon, and Michael Caine. \\nSet in a dystopian future where humanity is embroiled in a catastrophic blight and famine, the film follows a group of astronauts who travel through a wormhole near Saturn in search of a new home for humankind.\\n\\nBrothers Christopher and Jonathan Nolan wrote the screenplay, which had its origins in a script Jonathan developed in 2007 and was originally set to be directed by Steven Spielberg. \\nKip Thorne, a Caltech theoretical physicist and 2017 Nobel laureate in Physics,[4] was an executive producer, acted as a scientific consultant, and wrote a tie-in book, The Science of Interstellar. \\nCinematographer Hoyte van Hoytema shot it on 35 mm movie film in the Panavision anamorphic format and IMAX 70 mm. Principal photography began in late 2013 and took place in Alberta, Iceland, and Los Angeles. \\nInterstellar uses extensive practical and miniature effects, and the company Double Negative created additional digital effects.\\n\\nInterstellar premiered in Los Angeles on October 26, 2014. In the United States, it was first released on film stock, expanding to venues using digital projectors. The film received generally positive reviews from critics and grossed over $677 million worldwide ($715 million after subsequent re-releases), making it the tenth-highest-grossing film of 2014. \\nIt has been praised by astronomers for its scientific accuracy and portrayal of theoretical astrophysics.[5][6][7] Interstellar was nominated for five awards at the 87th Academy Awards, winning Best Visual Effects, and received numerous other accolades.'"
      ]
     },
     "execution_count": 16,
     "metadata": {},
     "output_type": "execute_result"
    }
   ],
   "source": [
    "text"
   ]
  },
  {
   "cell_type": "code",
   "execution_count": 17,
   "id": "fa597352-e9ca-4a09-8be3-d6e0dd434fff",
   "metadata": {},
   "outputs": [],
   "source": [
    "from langchain.text_splitter import RecursiveCharacterTextSplitter\n",
    "\n",
    "r_splitter = RecursiveCharacterTextSplitter(\n",
    "    separators = [\"\\n\\n\", \"\\n\", \" \"],  # List of separators based on requirement (defaults to [\"\\n\\n\", \"\\n\", \" \"])\n",
    "    chunk_size = 200,  # size of each chunk created\n",
    "    chunk_overlap  = 0,  # size of  overlap between chunks in order to maintain the context\n",
    "    length_function = len  # Function to calculate size, currently we are using \"len\" which denotes length of string however you can pass any token counter)\n",
    ")"
   ]
  },
  {
   "cell_type": "code",
   "execution_count": 18,
   "id": "1f5b8251-2244-452a-8966-6abe95a9a35b",
   "metadata": {},
   "outputs": [
    {
     "name": "stdout",
     "output_type": "stream",
     "text": [
      "105\n",
      "120\n",
      "199\n",
      "10\n",
      "181\n",
      "197\n",
      "198\n",
      "8\n",
      "128\n",
      "191\n",
      "165\n",
      "198\n",
      "54\n"
     ]
    }
   ],
   "source": [
    "chunks = r_splitter.split_text(text)\n",
    "\n",
    "for chunk in chunks:\n",
    "    print(len(chunk))"
   ]
  },
  {
   "cell_type": "code",
   "execution_count": 20,
   "id": "3aee232b-89cf-481e-9ab6-1665bb4e0fa9",
   "metadata": {},
   "outputs": [
    {
     "data": {
      "text/plain": [
       "13"
      ]
     },
     "execution_count": 20,
     "metadata": {},
     "output_type": "execute_result"
    }
   ],
   "source": [
    "len(chunks)"
   ]
  },
  {
   "cell_type": "markdown",
   "id": "d579296e-437e-4a9b-a4fd-43fb998fda33",
   "metadata": {},
   "source": [
    "Let's understand how exactly it formed these chunks\n"
   ]
  },
  {
   "cell_type": "code",
   "execution_count": 21,
   "id": "483ace6d-a767-4db9-92d4-f7497d92f22c",
   "metadata": {},
   "outputs": [
    {
     "data": {
      "text/plain": [
       "'Interstellar is a 2014 epic science fiction film co-written, directed, and produced by Christopher Nolan. \\nIt stars Matthew McConaughey, Anne Hathaway, Jessica Chastain, Bill Irwin, Ellen Burstyn, Matt Damon, and Michael Caine. \\nSet in a dystopian future where humanity is embroiled in a catastrophic blight and famine, the film follows a group of astronauts who travel through a wormhole near Saturn in search of a new home for humankind.'"
      ]
     },
     "execution_count": 21,
     "metadata": {},
     "output_type": "execute_result"
    }
   ],
   "source": [
    "first_split = text.split(\"\\n\\n\")[0]\n",
    "first_split"
   ]
  },
  {
   "cell_type": "code",
   "execution_count": 22,
   "id": "dfeeae7f-9d64-4b06-ad32-3d23a21ced9a",
   "metadata": {},
   "outputs": [
    {
     "data": {
      "text/plain": [
       "439"
      ]
     },
     "execution_count": 22,
     "metadata": {},
     "output_type": "execute_result"
    }
   ],
   "source": [
    "len(first_split)"
   ]
  },
  {
   "cell_type": "markdown",
   "id": "0e5d64a9-af91-41b4-9504-4621a64ce1e9",
   "metadata": {},
   "source": [
    "Recursive text splitter uses a list of separators, i.e. separators = [\"\\n\\n\", \"\\n\", \".\"]\n",
    "\n",
    "So now it will first split using \\n\\n and then if the resulting chunk size is greater than the chunk_size parameter which is 200 in our case, then it will use the next separator which is \\n"
   ]
  },
  {
   "cell_type": "code",
   "execution_count": 23,
   "id": "6be78d15-ecfb-4a03-9c27-80be417d03b0",
   "metadata": {},
   "outputs": [
    {
     "data": {
      "text/plain": [
       "['Interstellar is a 2014 epic science fiction film co-written, directed, and produced by Christopher Nolan. ',\n",
       " 'It stars Matthew McConaughey, Anne Hathaway, Jessica Chastain, Bill Irwin, Ellen Burstyn, Matt Damon, and Michael Caine. ',\n",
       " 'Set in a dystopian future where humanity is embroiled in a catastrophic blight and famine, the film follows a group of astronauts who travel through a wormhole near Saturn in search of a new home for humankind.']"
      ]
     },
     "execution_count": 23,
     "metadata": {},
     "output_type": "execute_result"
    }
   ],
   "source": [
    "second_split = first_split.split(\"\\n\")\n",
    "second_split"
   ]
  },
  {
   "cell_type": "code",
   "execution_count": 24,
   "id": "ea455487-9d48-4799-8e88-a66a327fbb18",
   "metadata": {},
   "outputs": [
    {
     "name": "stdout",
     "output_type": "stream",
     "text": [
      "106\n",
      "121\n",
      "210\n"
     ]
    }
   ],
   "source": [
    "for split in second_split:\n",
    "    print(len(split))"
   ]
  },
  {
   "cell_type": "markdown",
   "id": "b27199b7-aaf7-4749-a6f5-3abb43aec929",
   "metadata": {},
   "source": [
    "Third split exceeds chunk size 200. Now it will further try to split that using the third separator which is ' ' (space)"
   ]
  },
  {
   "cell_type": "code",
   "execution_count": 25,
   "id": "b65b06f6-aeae-47b4-9f7b-499f89c02c28",
   "metadata": {},
   "outputs": [
    {
     "data": {
      "text/plain": [
       "'Set in a dystopian future where humanity is embroiled in a catastrophic blight and famine, the film follows a group of astronauts who travel through a wormhole near Saturn in search of a new home for humankind.'"
      ]
     },
     "execution_count": 25,
     "metadata": {},
     "output_type": "execute_result"
    }
   ],
   "source": [
    "second_split[2]"
   ]
  },
  {
   "cell_type": "code",
   "execution_count": null,
   "id": "2aeb7025-d5b6-48ec-928e-f651247d7658",
   "metadata": {},
   "outputs": [],
   "source": []
  }
 ],
 "metadata": {
  "kernelspec": {
   "display_name": "GenAi",
   "language": "python",
   "name": "genai"
  },
  "language_info": {
   "codemirror_mode": {
    "name": "ipython",
    "version": 3
   },
   "file_extension": ".py",
   "mimetype": "text/x-python",
   "name": "python",
   "nbconvert_exporter": "python",
   "pygments_lexer": "ipython3",
   "version": "3.10.15"
  }
 },
 "nbformat": 4,
 "nbformat_minor": 5
}
